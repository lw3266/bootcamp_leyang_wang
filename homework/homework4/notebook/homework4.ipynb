{
 "cells": [
  {
   "cell_type": "markdown",
   "metadata": {},
   "source": [
    "1. API Pull"
   ]
  },
  {
   "cell_type": "code",
   "execution_count": 2,
   "metadata": {},
   "outputs": [
    {
     "name": "stderr",
     "output_type": "stream",
     "text": [
      "/tmp/ipykernel_92334/3517850085.py:4: FutureWarning: YF.download() has changed argument auto_adjust default to True\n",
      "  df_raw = yf.download(SYMBOL, period=\"5d\", interval=\"1m\")\n",
      "[*********************100%***********************]  1 of 1 completed"
     ]
    },
    {
     "name": "stdout",
     "output_type": "stream",
     "text": [
      "Price                           Close        High         Low        Open  \\\n",
      "Ticker                           NVDA        NVDA        NVDA        NVDA   \n",
      "Datetime                                                                    \n",
      "2025-08-13 13:30:00+00:00  182.339996  182.559906  182.289993  182.354996   \n",
      "2025-08-13 13:31:00+00:00  182.820007  183.000000  182.175003  182.365005   \n",
      "2025-08-13 13:32:00+00:00  183.700104  183.740005  182.824997  182.824997   \n",
      "2025-08-13 13:33:00+00:00  183.600006  183.789993  183.520004  183.714996   \n",
      "2025-08-13 13:34:00+00:00  183.539993  183.740005  183.509995  183.529999   \n",
      "...                               ...         ...         ...         ...   \n",
      "2025-08-19 14:15:00+00:00  180.585007  180.809998  180.570007  180.675797   \n",
      "2025-08-19 14:16:00+00:00  180.335007  180.649796  180.304993  180.580002   \n",
      "2025-08-19 14:17:00+00:00  180.399994  180.529907  180.270004  180.335007   \n",
      "2025-08-19 14:18:00+00:00  180.315002  180.494995  180.279999  180.399994   \n",
      "2025-08-19 14:19:00+00:00  180.210007  180.210007  180.210007  180.210007   \n",
      "\n",
      "Price                        Volume  \n",
      "Ticker                         NVDA  \n",
      "Datetime                             \n",
      "2025-08-13 13:30:00+00:00  13858478  \n",
      "2025-08-13 13:31:00+00:00   1349241  \n",
      "2025-08-13 13:32:00+00:00   1666219  \n",
      "2025-08-13 13:33:00+00:00    380543  \n",
      "2025-08-13 13:34:00+00:00   1418928  \n",
      "...                             ...  \n",
      "2025-08-19 14:15:00+00:00    430565  \n",
      "2025-08-19 14:16:00+00:00    570766  \n",
      "2025-08-19 14:17:00+00:00    425154  \n",
      "2025-08-19 14:18:00+00:00    397682  \n",
      "2025-08-19 14:19:00+00:00         0  \n",
      "\n",
      "[1603 rows x 5 columns]\n"
     ]
    },
    {
     "name": "stderr",
     "output_type": "stream",
     "text": [
      "\n"
     ]
    }
   ],
   "source": [
    "import yfinance as yf\n",
    "\n",
    "SYMBOL = \"NVDA\"\n",
    "df_raw = yf.download(SYMBOL, period=\"5d\", interval=\"1m\")\n",
    "\n",
    "print(df_raw)"
   ]
  },
  {
   "cell_type": "code",
   "execution_count": 7,
   "metadata": {},
   "outputs": [
    {
     "name": "stdout",
     "output_type": "stream",
     "text": [
      "None\n"
     ]
    },
    {
     "ename": "ModuleNotFoundError",
     "evalue": "No module named 'utils'",
     "output_type": "error",
     "traceback": [
      "\u001b[0;31m---------------------------------------------------------------------------\u001b[0m",
      "\u001b[0;31mModuleNotFoundError\u001b[0m                       Traceback (most recent call last)",
      "Cell \u001b[0;32mIn[7], line 5\u001b[0m\n\u001b[1;32m      3\u001b[0m \u001b[38;5;28mprint\u001b[39m(utilsPath)\n\u001b[1;32m      4\u001b[0m \u001b[38;5;66;03m# sys.path.insert(1, utilsPath)\u001b[39;00m\n\u001b[0;32m----> 5\u001b[0m \u001b[38;5;28;01mfrom\u001b[39;00m\u001b[38;5;250m \u001b[39m\u001b[38;5;21;01mutils\u001b[39;00m\u001b[38;5;250m \u001b[39m\u001b[38;5;28;01mimport\u001b[39;00m validate_df\n\u001b[1;32m      7\u001b[0m msgs \u001b[38;5;241m=\u001b[39m validate_df(df_raw, required_cols\u001b[38;5;241m=\u001b[39m[\u001b[38;5;124m'\u001b[39m\u001b[38;5;124mdate\u001b[39m\u001b[38;5;124m'\u001b[39m,\u001b[38;5;124m'\u001b[39m\u001b[38;5;124madj_close\u001b[39m\u001b[38;5;124m'\u001b[39m], dtypes_map\u001b[38;5;241m=\u001b[39m{\u001b[38;5;124m'\u001b[39m\u001b[38;5;124mdate\u001b[39m\u001b[38;5;124m'\u001b[39m:\u001b[38;5;124m'\u001b[39m\u001b[38;5;124mdatetime64[ns]\u001b[39m\u001b[38;5;124m'\u001b[39m,\u001b[38;5;124m'\u001b[39m\u001b[38;5;124madj_close\u001b[39m\u001b[38;5;124m'\u001b[39m:\u001b[38;5;124m'\u001b[39m\u001b[38;5;124mfloat\u001b[39m\u001b[38;5;124m'\u001b[39m})\n\u001b[1;32m      8\u001b[0m \u001b[38;5;28mprint\u001b[39m(msgs)\n",
      "\u001b[0;31mModuleNotFoundError\u001b[0m: No module named 'utils'"
     ]
    }
   ],
   "source": [
    "import sys, os\n",
    "utilsPath = os.getenv('UTILS_DIR')\n",
    "print(utilsPath)\n",
    "sys.path.insert(1, utilsPath)\n",
    "from utils import validate_df\n",
    "\n",
    "msgs = validate_df(df_raw, required_cols=['date','adj_close'], dtypes_map={'date':'datetime64[ns]','adj_close':'float'})\n",
    "print(msgs)"
   ]
  },
  {
   "cell_type": "markdown",
   "metadata": {},
   "source": [
    "2. Scrape a Small Table"
   ]
  }
 ],
 "metadata": {
  "kernelspec": {
   "display_name": "bootcamp_env",
   "language": "python",
   "name": "python3"
  },
  "language_info": {
   "codemirror_mode": {
    "name": "ipython",
    "version": 3
   },
   "file_extension": ".py",
   "mimetype": "text/x-python",
   "name": "python",
   "nbconvert_exporter": "python",
   "pygments_lexer": "ipython3",
   "version": "3.10.18"
  }
 },
 "nbformat": 4,
 "nbformat_minor": 2
}
