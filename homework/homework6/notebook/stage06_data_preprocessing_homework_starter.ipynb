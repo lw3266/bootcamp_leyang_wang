{
  "cells": [
    {
      "cell_type": "markdown",
      "metadata": {
        "id": "Z61i0UdV8i2r"
      },
      "source": [
        "# Setup: Generate Sample Dataset\n",
        "\n",
        "This cell creates the required folder structure (`data/raw/` and `data/processed/`) relative to the notebook, and generates the sample CSV dataset with missing values.\n",
        "This ensures the dataset is ready for cleaning functions and saves it to `data/raw/sample_data.csv`."
      ]
    },
    {
      "cell_type": "code",
      "execution_count": 1,
      "metadata": {
        "id": "cujRmeN38i2x"
      },
      "outputs": [
        {
          "name": "stdout",
          "output_type": "stream",
          "text": [
            "File already exists at ../data/raw/sample_data.csv. Skipping CSV creation to avoid overwrite.\n"
          ]
        }
      ],
      "source": [
        "import os\n",
        "import pandas as pd\n",
        "import numpy as np\n",
        "\n",
        "# Define folder paths relative to this notebook\n",
        "raw_dir = '../data/raw'\n",
        "processed_dir = '../data/processed'\n",
        "\n",
        "# Create folders if they don't exist\n",
        "os.makedirs(raw_dir, exist_ok=True)\n",
        "os.makedirs(processed_dir, exist_ok=True)\n",
        "\n",
        "# Define the sample data\n",
        "data = {\n",
        "    'age': [34, 45, 29, 50, 38, np.nan, 41],\n",
        "    'income': [55000, np.nan, 42000, 58000, np.nan, np.nan, 49000],\n",
        "    'score': [0.82, 0.91, np.nan, 0.76, 0.88, 0.65, 0.79],\n",
        "    'zipcode': ['90210', '10001', '60614', '94103', '73301', '12345', '94105'],\n",
        "    'city': ['Beverly', 'New York', 'Chicago', 'SF', 'Austin', 'Unknown', 'San Francisco'],\n",
        "    'extra_data': [np.nan, 42, np.nan, np.nan, np.nan, 5, np.nan]\n",
        "}\n",
        "\n",
        "# Create DataFrame\n",
        "df = pd.DataFrame(data)\n",
        "\n",
        "# Save to CSV in raw data folder\n",
        "csv_path = os.path.join(raw_dir, 'sample_data.csv')\n",
        "if not os.path.exists(csv_path):\n",
        "    df.to_csv(csv_path, index=False)\n",
        "    print(f'Sample dataset created and saved to {csv_path}')\n",
        "else:\n",
        "    print(f'File already exists at {csv_path}. Skipping CSV creation to avoid overwrite.')\n"
      ]
    },
    {
      "cell_type": "markdown",
      "metadata": {
        "id": "YMCSTCsC8i20"
      },
      "source": [
        "# Homework Starter — Stage 6: Data Preprocessing\n",
        "Use this notebook to apply your cleaning functions and save processed data."
      ]
    },
    {
      "cell_type": "code",
      "execution_count": 2,
      "metadata": {
        "id": "h28KNyPA8i21"
      },
      "outputs": [],
      "source": [
        "import pandas as pd\n",
        "import sys, os\n",
        "from dotenv import load_dotenv\n",
        "\n",
        "load_dotenv()\n",
        "utilsPath = os.getenv('UTILS_DIR')\n",
        "\n",
        "sys.path.insert(1, utilsPath)\n",
        "\n",
        "from src import cleaning"
      ]
    },
    {
      "cell_type": "markdown",
      "metadata": {
        "id": "4IcWPMs78i22"
      },
      "source": [
        "## Load Raw Dataset"
      ]
    },
    {
      "cell_type": "code",
      "execution_count": 3,
      "metadata": {
        "id": "5nXzTxlh8i23"
      },
      "outputs": [
        {
          "data": {
            "text/html": [
              "<div>\n",
              "<style scoped>\n",
              "    .dataframe tbody tr th:only-of-type {\n",
              "        vertical-align: middle;\n",
              "    }\n",
              "\n",
              "    .dataframe tbody tr th {\n",
              "        vertical-align: top;\n",
              "    }\n",
              "\n",
              "    .dataframe thead th {\n",
              "        text-align: right;\n",
              "    }\n",
              "</style>\n",
              "<table border=\"1\" class=\"dataframe\">\n",
              "  <thead>\n",
              "    <tr style=\"text-align: right;\">\n",
              "      <th></th>\n",
              "      <th>age</th>\n",
              "      <th>income</th>\n",
              "      <th>score</th>\n",
              "      <th>zipcode</th>\n",
              "      <th>city</th>\n",
              "      <th>extra_data</th>\n",
              "    </tr>\n",
              "  </thead>\n",
              "  <tbody>\n",
              "    <tr>\n",
              "      <th>0</th>\n",
              "      <td>34.0</td>\n",
              "      <td>55000.0</td>\n",
              "      <td>0.82</td>\n",
              "      <td>90210</td>\n",
              "      <td>Beverly</td>\n",
              "      <td>NaN</td>\n",
              "    </tr>\n",
              "    <tr>\n",
              "      <th>1</th>\n",
              "      <td>45.0</td>\n",
              "      <td>NaN</td>\n",
              "      <td>0.91</td>\n",
              "      <td>10001</td>\n",
              "      <td>New York</td>\n",
              "      <td>42.0</td>\n",
              "    </tr>\n",
              "    <tr>\n",
              "      <th>2</th>\n",
              "      <td>29.0</td>\n",
              "      <td>42000.0</td>\n",
              "      <td>NaN</td>\n",
              "      <td>60614</td>\n",
              "      <td>Chicago</td>\n",
              "      <td>NaN</td>\n",
              "    </tr>\n",
              "    <tr>\n",
              "      <th>3</th>\n",
              "      <td>50.0</td>\n",
              "      <td>58000.0</td>\n",
              "      <td>0.76</td>\n",
              "      <td>94103</td>\n",
              "      <td>SF</td>\n",
              "      <td>NaN</td>\n",
              "    </tr>\n",
              "    <tr>\n",
              "      <th>4</th>\n",
              "      <td>38.0</td>\n",
              "      <td>NaN</td>\n",
              "      <td>0.88</td>\n",
              "      <td>73301</td>\n",
              "      <td>Austin</td>\n",
              "      <td>NaN</td>\n",
              "    </tr>\n",
              "    <tr>\n",
              "      <th>5</th>\n",
              "      <td>NaN</td>\n",
              "      <td>NaN</td>\n",
              "      <td>0.65</td>\n",
              "      <td>12345</td>\n",
              "      <td>Unknown</td>\n",
              "      <td>5.0</td>\n",
              "    </tr>\n",
              "    <tr>\n",
              "      <th>6</th>\n",
              "      <td>41.0</td>\n",
              "      <td>49000.0</td>\n",
              "      <td>0.79</td>\n",
              "      <td>94105</td>\n",
              "      <td>San Francisco</td>\n",
              "      <td>NaN</td>\n",
              "    </tr>\n",
              "  </tbody>\n",
              "</table>\n",
              "</div>"
            ],
            "text/plain": [
              "    age   income  score  zipcode           city  extra_data\n",
              "0  34.0  55000.0   0.82    90210        Beverly         NaN\n",
              "1  45.0      NaN   0.91    10001       New York        42.0\n",
              "2  29.0  42000.0    NaN    60614        Chicago         NaN\n",
              "3  50.0  58000.0   0.76    94103             SF         NaN\n",
              "4  38.0      NaN   0.88    73301         Austin         NaN\n",
              "5   NaN      NaN   0.65    12345        Unknown         5.0\n",
              "6  41.0  49000.0   0.79    94105  San Francisco         NaN"
            ]
          },
          "execution_count": 3,
          "metadata": {},
          "output_type": "execute_result"
        }
      ],
      "source": [
        "df = pd.read_csv('../data/raw/sample_data.csv')\n",
        "df"
      ]
    },
    {
      "cell_type": "markdown",
      "metadata": {
        "id": "EjhQ7cD98i23"
      },
      "source": [
        "## Apply Cleaning Functions"
      ]
    },
    {
      "cell_type": "code",
      "execution_count": 4,
      "metadata": {
        "id": "japasues8i24"
      },
      "outputs": [
        {
          "data": {
            "text/html": [
              "<div>\n",
              "<style scoped>\n",
              "    .dataframe tbody tr th:only-of-type {\n",
              "        vertical-align: middle;\n",
              "    }\n",
              "\n",
              "    .dataframe tbody tr th {\n",
              "        vertical-align: top;\n",
              "    }\n",
              "\n",
              "    .dataframe thead th {\n",
              "        text-align: right;\n",
              "    }\n",
              "</style>\n",
              "<table border=\"1\" class=\"dataframe\">\n",
              "  <thead>\n",
              "    <tr style=\"text-align: right;\">\n",
              "      <th></th>\n",
              "      <th>age</th>\n",
              "      <th>income</th>\n",
              "      <th>score</th>\n",
              "      <th>zipcode</th>\n",
              "      <th>city</th>\n",
              "      <th>extra_data</th>\n",
              "    </tr>\n",
              "  </thead>\n",
              "  <tbody>\n",
              "    <tr>\n",
              "      <th>0</th>\n",
              "      <td>34.0</td>\n",
              "      <td>55000.0</td>\n",
              "      <td>0.820</td>\n",
              "      <td>90210</td>\n",
              "      <td>Beverly</td>\n",
              "      <td>NaN</td>\n",
              "    </tr>\n",
              "    <tr>\n",
              "      <th>1</th>\n",
              "      <td>45.0</td>\n",
              "      <td>52000.0</td>\n",
              "      <td>0.910</td>\n",
              "      <td>10001</td>\n",
              "      <td>New York</td>\n",
              "      <td>42.0</td>\n",
              "    </tr>\n",
              "    <tr>\n",
              "      <th>2</th>\n",
              "      <td>29.0</td>\n",
              "      <td>42000.0</td>\n",
              "      <td>0.805</td>\n",
              "      <td>60614</td>\n",
              "      <td>Chicago</td>\n",
              "      <td>NaN</td>\n",
              "    </tr>\n",
              "    <tr>\n",
              "      <th>3</th>\n",
              "      <td>50.0</td>\n",
              "      <td>58000.0</td>\n",
              "      <td>0.760</td>\n",
              "      <td>94103</td>\n",
              "      <td>SF</td>\n",
              "      <td>NaN</td>\n",
              "    </tr>\n",
              "    <tr>\n",
              "      <th>4</th>\n",
              "      <td>38.0</td>\n",
              "      <td>52000.0</td>\n",
              "      <td>0.880</td>\n",
              "      <td>73301</td>\n",
              "      <td>Austin</td>\n",
              "      <td>NaN</td>\n",
              "    </tr>\n",
              "    <tr>\n",
              "      <th>5</th>\n",
              "      <td>NaN</td>\n",
              "      <td>52000.0</td>\n",
              "      <td>0.650</td>\n",
              "      <td>12345</td>\n",
              "      <td>Unknown</td>\n",
              "      <td>5.0</td>\n",
              "    </tr>\n",
              "    <tr>\n",
              "      <th>6</th>\n",
              "      <td>41.0</td>\n",
              "      <td>49000.0</td>\n",
              "      <td>0.790</td>\n",
              "      <td>94105</td>\n",
              "      <td>San Francisco</td>\n",
              "      <td>NaN</td>\n",
              "    </tr>\n",
              "  </tbody>\n",
              "</table>\n",
              "</div>"
            ],
            "text/plain": [
              "    age   income  score  zipcode           city  extra_data\n",
              "0  34.0  55000.0  0.820    90210        Beverly         NaN\n",
              "1  45.0  52000.0  0.910    10001       New York        42.0\n",
              "2  29.0  42000.0  0.805    60614        Chicago         NaN\n",
              "3  50.0  58000.0  0.760    94103             SF         NaN\n",
              "4  38.0  52000.0  0.880    73301         Austin         NaN\n",
              "5   NaN  52000.0  0.650    12345        Unknown         5.0\n",
              "6  41.0  49000.0  0.790    94105  San Francisco         NaN"
            ]
          },
          "execution_count": 4,
          "metadata": {},
          "output_type": "execute_result"
        }
      ],
      "source": [
        "# TODO: Apply your functions here\n",
        "\n",
        "df = cleaning.fill_missing_median(df, ['income','score'])\n",
        "# df = cleaning.drop_missing(df, threshold=0.5)\n",
        "# df = cleaning.normalize_data(df, ['income'])\n",
        "df"
      ]
    },
    {
      "cell_type": "markdown",
      "metadata": {
        "id": "TFHpS5Fh8i25"
      },
      "source": [
        "## Save Cleaned Dataset"
      ]
    },
    {
      "cell_type": "code",
      "execution_count": 5,
      "metadata": {
        "id": "c3FqMxXg8i26"
      },
      "outputs": [
        {
          "data": {
            "text/html": [
              "<div>\n",
              "<style scoped>\n",
              "    .dataframe tbody tr th:only-of-type {\n",
              "        vertical-align: middle;\n",
              "    }\n",
              "\n",
              "    .dataframe tbody tr th {\n",
              "        vertical-align: top;\n",
              "    }\n",
              "\n",
              "    .dataframe thead th {\n",
              "        text-align: right;\n",
              "    }\n",
              "</style>\n",
              "<table border=\"1\" class=\"dataframe\">\n",
              "  <thead>\n",
              "    <tr style=\"text-align: right;\">\n",
              "      <th></th>\n",
              "      <th>age</th>\n",
              "      <th>income</th>\n",
              "      <th>score</th>\n",
              "      <th>zipcode</th>\n",
              "      <th>city</th>\n",
              "      <th>extra_data</th>\n",
              "    </tr>\n",
              "  </thead>\n",
              "  <tbody>\n",
              "    <tr>\n",
              "      <th>0</th>\n",
              "      <td>34.0</td>\n",
              "      <td>55000.0</td>\n",
              "      <td>0.820</td>\n",
              "      <td>90210</td>\n",
              "      <td>Beverly</td>\n",
              "      <td>NaN</td>\n",
              "    </tr>\n",
              "    <tr>\n",
              "      <th>1</th>\n",
              "      <td>45.0</td>\n",
              "      <td>52000.0</td>\n",
              "      <td>0.910</td>\n",
              "      <td>10001</td>\n",
              "      <td>New York</td>\n",
              "      <td>42.0</td>\n",
              "    </tr>\n",
              "    <tr>\n",
              "      <th>2</th>\n",
              "      <td>29.0</td>\n",
              "      <td>42000.0</td>\n",
              "      <td>0.805</td>\n",
              "      <td>60614</td>\n",
              "      <td>Chicago</td>\n",
              "      <td>NaN</td>\n",
              "    </tr>\n",
              "    <tr>\n",
              "      <th>3</th>\n",
              "      <td>50.0</td>\n",
              "      <td>58000.0</td>\n",
              "      <td>0.760</td>\n",
              "      <td>94103</td>\n",
              "      <td>SF</td>\n",
              "      <td>NaN</td>\n",
              "    </tr>\n",
              "    <tr>\n",
              "      <th>4</th>\n",
              "      <td>38.0</td>\n",
              "      <td>52000.0</td>\n",
              "      <td>0.880</td>\n",
              "      <td>73301</td>\n",
              "      <td>Austin</td>\n",
              "      <td>NaN</td>\n",
              "    </tr>\n",
              "    <tr>\n",
              "      <th>5</th>\n",
              "      <td>NaN</td>\n",
              "      <td>52000.0</td>\n",
              "      <td>0.650</td>\n",
              "      <td>12345</td>\n",
              "      <td>Unknown</td>\n",
              "      <td>5.0</td>\n",
              "    </tr>\n",
              "    <tr>\n",
              "      <th>6</th>\n",
              "      <td>41.0</td>\n",
              "      <td>49000.0</td>\n",
              "      <td>0.790</td>\n",
              "      <td>94105</td>\n",
              "      <td>San Francisco</td>\n",
              "      <td>NaN</td>\n",
              "    </tr>\n",
              "  </tbody>\n",
              "</table>\n",
              "</div>"
            ],
            "text/plain": [
              "    age   income  score  zipcode           city  extra_data\n",
              "0  34.0  55000.0  0.820    90210        Beverly         NaN\n",
              "1  45.0  52000.0  0.910    10001       New York        42.0\n",
              "2  29.0  42000.0  0.805    60614        Chicago         NaN\n",
              "3  50.0  58000.0  0.760    94103             SF         NaN\n",
              "4  38.0  52000.0  0.880    73301         Austin         NaN\n",
              "5   NaN  52000.0  0.650    12345        Unknown         5.0\n",
              "6  41.0  49000.0  0.790    94105  San Francisco         NaN"
            ]
          },
          "execution_count": 5,
          "metadata": {},
          "output_type": "execute_result"
        }
      ],
      "source": [
        "df.to_csv('../data/processed/sample_data_cleaned.csv', index=False)\n",
        "df"
      ]
    }
  ],
  "metadata": {
    "colab": {
      "provenance": []
    },
    "kernelspec": {
      "display_name": "Python 3",
      "language": "python",
      "name": "python3"
    },
    "language_info": {
      "codemirror_mode": {
        "name": "ipython",
        "version": 3
      },
      "file_extension": ".py",
      "mimetype": "text/x-python",
      "name": "python",
      "nbconvert_exporter": "python",
      "pygments_lexer": "ipython3",
      "version": "3.10.18"
    }
  },
  "nbformat": 4,
  "nbformat_minor": 0
}
