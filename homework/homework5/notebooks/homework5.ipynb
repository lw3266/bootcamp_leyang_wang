{
 "cells": [
  {
   "cell_type": "markdown",
   "metadata": {},
   "source": [
    "1. Save in Two Formats"
   ]
  },
  {
   "cell_type": "code",
   "execution_count": 16,
   "metadata": {},
   "outputs": [
    {
     "data": {
      "text/html": [
       "<div>\n",
       "<style scoped>\n",
       "    .dataframe tbody tr th:only-of-type {\n",
       "        vertical-align: middle;\n",
       "    }\n",
       "\n",
       "    .dataframe tbody tr th {\n",
       "        vertical-align: top;\n",
       "    }\n",
       "\n",
       "    .dataframe thead th {\n",
       "        text-align: right;\n",
       "    }\n",
       "</style>\n",
       "<table border=\"1\" class=\"dataframe\">\n",
       "  <thead>\n",
       "    <tr style=\"text-align: right;\">\n",
       "      <th></th>\n",
       "      <th>name</th>\n",
       "      <th>value</th>\n",
       "    </tr>\n",
       "  </thead>\n",
       "  <tbody>\n",
       "    <tr>\n",
       "      <th>0</th>\n",
       "      <td>iphone 17</td>\n",
       "      <td></td>\n",
       "    </tr>\n",
       "    <tr>\n",
       "      <th>1</th>\n",
       "      <td>iphone 17 air</td>\n",
       "      <td>air</td>\n",
       "    </tr>\n",
       "    <tr>\n",
       "      <th>2</th>\n",
       "      <td>iphone 17 pro</td>\n",
       "      <td>pro</td>\n",
       "    </tr>\n",
       "  </tbody>\n",
       "</table>\n",
       "</div>"
      ],
      "text/plain": [
       "            name value\n",
       "0      iphone 17      \n",
       "1  iphone 17 air   air\n",
       "2  iphone 17 pro   pro"
      ]
     },
     "execution_count": 16,
     "metadata": {},
     "output_type": "execute_result"
    }
   ],
   "source": [
    "import pandas as pd\n",
    "\n",
    "data = [\n",
    "    ['iphone 17', ''],\n",
    "    ['iphone 17 air', 'air'],\n",
    "    ['iphone 17 pro', 'pro']\n",
    "]\n",
    "df = pd.DataFrame(data, columns=['name', 'value'])\n",
    "\n",
    "df\n"
   ]
  },
  {
   "cell_type": "code",
   "execution_count": 23,
   "metadata": {},
   "outputs": [],
   "source": [
    "from dotenv import load_dotenv\n",
    "import pathlib, os\n",
    "\n",
    "load_dotenv()\n",
    "csv_filename = \"phone_names.csv\"\n",
    "parquet_filename = \"phone_names.parquet\"\n",
    "SOU_DIR = pathlib.Path(os.getenv(\"SOURCE_DIR\"))\n",
    "RAW_DIR = SOU_DIR / pathlib.Path(os.getenv(\"DATA_DIR_RAW\")) / csv_filename\n",
    "PRO_DIR = SOU_DIR / pathlib.Path(os.getenv(\"DATA_DIR_PROCESSED\")) / parquet_filename\n",
    "\n",
    "df.to_csv(RAW_DIR, index=False)\n",
    "df.to_parquet(PRO_DIR, index=False)"
   ]
  },
  {
   "cell_type": "markdown",
   "metadata": {},
   "source": [
    "2. Reload"
   ]
  },
  {
   "cell_type": "code",
   "execution_count": 29,
   "metadata": {},
   "outputs": [
    {
     "name": "stdout",
     "output_type": "stream",
     "text": [
      "            name value\n",
      "0      iphone 17   NaN\n",
      "1  iphone 17 air   air\n",
      "2  iphone 17 pro   pro\n",
      "            name value\n",
      "0      iphone 17      \n",
      "1  iphone 17 air   air\n",
      "2  iphone 17 pro   pro\n"
     ]
    },
    {
     "data": {
      "text/plain": [
       "{'shape_equal': True, 'cols_present': True}"
      ]
     },
     "execution_count": 29,
     "metadata": {},
     "output_type": "execute_result"
    }
   ],
   "source": [
    "df_csv = pd.read_csv(RAW_DIR)\n",
    "df_parquet = pd.read_parquet(PRO_DIR)\n",
    "\n",
    "print(df_csv)\n",
    "print(df_parquet)\n",
    "assert df_csv.shape == df.shape, \"csv not good\"\n",
    "assert df_parquet.shape == df.shape, \"parque not good\"\n",
    "\n",
    "def validate_loaded(original: pd.DataFrame, reloaded: pd.DataFrame):\n",
    "    checks = {\n",
    "        'shape_equal': original.shape == reloaded.shape,\n",
    "        'cols_present': all(c in reloaded.columns for c in original.columns)\n",
    "    }\n",
    "    return checks\n",
    "\n",
    "validate_loaded(df, df_csv)"
   ]
  },
  {
   "cell_type": "markdown",
   "metadata": {},
   "source": [
    "3. Refactor to Utilities"
   ]
  },
  {
   "cell_type": "code",
   "execution_count": 31,
   "metadata": {},
   "outputs": [],
   "source": [
    "def read_df(RAW_DIR, PRO_DIR):\n",
    "    df_csv = pd.read_csv(RAW_DIR)\n",
    "    df_parquet = pd.read_parquet(PRO_DIR)\n",
    "    return df_csv, df_parquet\n",
    "\n",
    "def write_df(df, RAW_DIR, PRO_DIR):\n",
    "    df.to_csv(RAW_DIR)\n",
    "    try:\n",
    "        df.to_parquet(PRO_DIR)\n",
    "    except Exception as e:\n",
    "        print(\"Parquet save failed.\")\n",
    "        print(\"Error:\", e)\n",
    "    \n",
    "    validate_loaded(df, df_csv)\n",
    "    validate_loaded(df, df_parquet)\n",
    "\n",
    "write_df(df, RAW_DIR, PRO_DIR)"
   ]
  }
 ],
 "metadata": {
  "kernelspec": {
   "display_name": "bootcamp_env",
   "language": "python",
   "name": "python3"
  },
  "language_info": {
   "codemirror_mode": {
    "name": "ipython",
    "version": 3
   },
   "file_extension": ".py",
   "mimetype": "text/x-python",
   "name": "python",
   "nbconvert_exporter": "python",
   "pygments_lexer": "ipython3",
   "version": "3.10.18"
  }
 },
 "nbformat": 4,
 "nbformat_minor": 2
}
